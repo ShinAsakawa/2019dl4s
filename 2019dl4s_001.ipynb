{
  "nbformat": 4,
  "nbformat_minor": 0,
  "metadata": {
    "colab": {
      "name": "2019dl4s_001.ipynb",
      "version": "0.3.2",
      "provenance": [],
      "private_outputs": true,
      "collapsed_sections": [],
      "include_colab_link": true
    },
    "kernelspec": {
      "name": "python3",
      "display_name": "Python 3"
    }
  },
  "cells": [
    {
      "cell_type": "markdown",
      "metadata": {
        "id": "view-in-github",
        "colab_type": "text"
      },
      "source": [
        "<a href=\"https://colab.research.google.com/github/ShinAsakawa/2019dl4s/blob/master/2019dl4s_001.ipynb\" target=\"_parent\"><img src=\"https://colab.research.google.com/assets/colab-badge.svg\" alt=\"Open In Colab\"/></a>"
      ]
    },
    {
      "metadata": {
        "id": "UBURScwM90FD",
        "colab_type": "text"
      },
      "cell_type": "markdown",
      "source": [
        "# はじめての Google colaboratory その2\n",
        "\n",
        "<p align='right' > \n",
        "    <font size='+1' color='green'>\n",
        "        浅川伸一\n",
        "</font> </p>\n",
        "\n",
        "ここでは主成分分析とロジスティック回帰を実演する"
      ]
    },
    {
      "metadata": {
        "id": "F8voEMz5YSWJ",
        "colab_type": "code",
        "colab": {}
      },
      "cell_type": "code",
      "source": [
        "import numpy as np    # numpy の輸入\n",
        "import pandas as pd   # pandas を pd として輸入\n",
        "mnistdf = pd.read_csv('sample_data/mnist_train_small.csv', header=None) # 予め用意されているデータを読み込む"
      ],
      "execution_count": 0,
      "outputs": []
    },
    {
      "metadata": {
        "id": "OvdCfDBBblkD",
        "colab_type": "code",
        "colab": {}
      },
      "cell_type": "code",
      "source": [
        "A = mnistdf.values    # pandas で読み込んだデータの値を A に代\n",
        "\n",
        "X = A[:,1:]           # データを画像部分とラベル部分に分解し，画像を X\n",
        "y = A[:,0]            # ラベルを y とする"
      ],
      "execution_count": 0,
      "outputs": []
    },
    {
      "metadata": {
        "id": "grSHh5FYOyzz",
        "colab_type": "code",
        "colab": {}
      },
      "cell_type": "code",
      "source": [
        "# 確認のため `a_digit` の情報を表示\n",
        "print(type(X), X.shape, X.dtype)\n",
        "print(type(y), y.shape, y.dtype)"
      ],
      "execution_count": 0,
      "outputs": []
    },
    {
      "metadata": {
        "id": "tSR6qVBFPpx_",
        "colab_type": "code",
        "colab": {}
      },
      "cell_type": "code",
      "source": [
        "from sklearn.decomposition import PCA as pca  # 主成分分析 (Principle component analysis:PCA) モジュールの読み込み"
      ],
      "execution_count": 0,
      "outputs": []
    },
    {
      "metadata": {
        "id": "73u_RP-7P_7_",
        "colab_type": "code",
        "colab": {}
      },
      "cell_type": "code",
      "source": [
        "pca_ = pca()\n",
        "pca_.fit(X,y)"
      ],
      "execution_count": 0,
      "outputs": []
    },
    {
      "metadata": {
        "id": "OWHshmE2QtUx",
        "colab_type": "code",
        "colab": {}
      },
      "cell_type": "code",
      "source": [
        "print(pca_.score(X))\n",
        "print(pca_.get_params())\n",
        "print(pca_.explained_variance_ratio_[:5])\n",
        "print(pca_.singular_values_[:5]) \n",
        "print(pca_.singular_values_[-5:])\n",
        "print(pca_.get_precision()[:3,:3])\n",
        "#pca_.get_covariance()"
      ],
      "execution_count": 0,
      "outputs": []
    },
    {
      "metadata": {
        "id": "3QHf6pDsTgAz",
        "colab_type": "code",
        "colab": {}
      },
      "cell_type": "code",
      "source": [
        "# ロジスティック回帰の読み込み\n",
        "from sklearn.linear_model import LogisticRegression"
      ],
      "execution_count": 0,
      "outputs": []
    },
    {
      "metadata": {
        "id": "DHwa9p7oRtVt",
        "colab_type": "code",
        "colab": {}
      },
      "cell_type": "code",
      "source": [
        "import matplotlib.pyplot as plt\n",
        "%matplotlib inline"
      ],
      "execution_count": 0,
      "outputs": []
    },
    {
      "metadata": {
        "id": "m81StTI_RwSD",
        "colab_type": "code",
        "colab": {}
      },
      "cell_type": "code",
      "source": [
        "logreg = LogisticRegression(C=1e5, solver='lbfgs', multi_class='multinomial',\n",
        "                           max_iter=500)  # パラメータを決める\n",
        "logreg.fit(X, y)  # ロジスティック回帰の実施"
      ],
      "execution_count": 0,
      "outputs": []
    }
  ]
}