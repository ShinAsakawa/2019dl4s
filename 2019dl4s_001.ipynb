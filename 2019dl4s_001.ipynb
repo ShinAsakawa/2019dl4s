{
  "nbformat": 4,
  "nbformat_minor": 0,
  "metadata": {
    "colab": {
      "name": "2019dl4s_first_colaboratory.ipynb",
      "version": "0.3.2",
      "provenance": [],
      "private_outputs": true,
      "collapsed_sections": [],
      "include_colab_link": true
    },
    "kernelspec": {
      "name": "python3",
      "display_name": "Python 3"
    }
  },
  "cells": [
    {
      "cell_type": "markdown",
      "metadata": {
        "id": "view-in-github",
        "colab_type": "text"
      },
      "source": [
        "<a href=\"https://colab.research.google.com/github/ShinAsakawa/2019dl4s/blob/master/2019dl4s_001.ipynb\" target=\"_parent\"><img src=\"https://colab.research.google.com/assets/colab-badge.svg\" alt=\"Open In Colab\"/></a>"
      ]
    },
    {
      "metadata": {
        "id": "UBURScwM90FD",
        "colab_type": "text"
      },
      "cell_type": "markdown",
      "source": [
        "# はじめての Google colaboratory\n",
        "\n",
        "<p align='right' > \n",
        "    <font size='+1' color='green'>\n",
        "        浅川伸一\n",
        "</font>\n",
        " </p>\n",
        "Google Colaboratory には予めデータが用意されている。\n",
        "ここでは，そのデータを操作してみることにする。\n",
        "\n",
        "下のセルのコマンドは `sample_data` というディレクトリに存在するファイルを表示させるためのコマンド `ls` である"
      ]
    },
    {
      "metadata": {
        "id": "IuCGLPXnYIAM",
        "colab_type": "code",
        "colab": {}
      },
      "cell_type": "code",
      "source": [
        "!ls sample_data"
      ],
      "execution_count": 0,
      "outputs": []
    },
    {
      "metadata": {
        "id": "0mNqFDKb-oSq",
        "colab_type": "text"
      },
      "cell_type": "markdown",
      "source": [
        "実行すると，以下のファイルがあることが分かる。\n",
        "\n",
        "- json  ファイルが 1 つ\n",
        "- csv ファイルが 4 つ\n",
        "- README.md ファイル\n",
        "\n",
        "このうち README.md ファイルには，このディクレクトリ内にあるファイルの説明が記されている。\n",
        "\n",
        "直下の操作で\n",
        "\n",
        "- 何件のデータが `mnist_train_small.csv` に含まれているかを表示し\n",
        "- 最初の 10 件のデータを表示している\n"
      ]
    },
    {
      "metadata": {
        "id": "NLhKbboAYKPK",
        "colab_type": "code",
        "colab": {}
      },
      "cell_type": "code",
      "source": [
        "!wc sample_data/mnist_train_small.csv\n",
        "!head sample_data/mnist_train_small.csv"
      ],
      "execution_count": 0,
      "outputs": []
    },
    {
      "metadata": {
        "id": "pkt_j0MIPP6G",
        "colab_type": "text"
      },
      "cell_type": "markdown",
      "source": [
        "このデータを `pandas` を使って読み込んでみよう。"
      ]
    },
    {
      "metadata": {
        "id": "F8voEMz5YSWJ",
        "colab_type": "code",
        "colab": {}
      },
      "cell_type": "code",
      "source": [
        "import numpy as np\n",
        "import pandas as pd\n",
        "mnistdf = pd.read_csv('sample_data/mnist_train_small.csv', header=None)"
      ],
      "execution_count": 0,
      "outputs": []
    },
    {
      "metadata": {
        "id": "OvdCfDBBblkD",
        "colab_type": "code",
        "colab": {}
      },
      "cell_type": "code",
      "source": [
        "# pandas で読み込んだデータの値を A に代入\n",
        "A = mnistdf.values\n",
        "\n",
        "# 確認のため A の情報を表示\n",
        "print(type(A), A.shape)\n",
        "\n",
        "# 最初のデータを 28 行 28 列の行列に変換し a_digit という名前で保存\n",
        "a_digit = A[0,1:].reshape(28,28)\n",
        "\n",
        "# 確認のため `a_digit` の情報を表示\n",
        "print(type(a_digit), a_digit.shape)"
      ],
      "execution_count": 0,
      "outputs": []
    },
    {
      "metadata": {
        "id": "DHwa9p7oRtVt",
        "colab_type": "code",
        "colab": {}
      },
      "cell_type": "code",
      "source": [
        "mnist は手書き数字のデータであるので画像として表示させてみるための準備  \n",
        "import matplotlib.pyplot as plt\n",
        "%matplotlib inline"
      ],
      "execution_count": 0,
      "outputs": []
    },
    {
      "metadata": {
        "id": "m81StTI_RwSD",
        "colab_type": "code",
        "colab": {}
      },
      "cell_type": "code",
      "source": [
        "plt.imshow(a_digit)"
      ],
      "execution_count": 0,
      "outputs": []
    }
  ]
}